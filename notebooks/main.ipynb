{
 "cells": [
  {
   "cell_type": "code",
   "execution_count": 1,
   "metadata": {},
   "outputs": [],
   "source": [
    "import os\n",
    "os.chdir(\"../\")"
   ]
  },
  {
   "cell_type": "code",
   "execution_count": 2,
   "metadata": {},
   "outputs": [],
   "source": [
    "%load_ext autoreload\n",
    "%autoreload 2"
   ]
  },
  {
   "cell_type": "code",
   "execution_count": 3,
   "metadata": {},
   "outputs": [],
   "source": [
    "import os\n",
    "import sys\n",
    "import warnings\n",
    "from pathlib import Path\n",
    "from types import SimpleNamespace\n",
    "\n",
    "\n",
    "ROOT_PATH = str(Path(os.getcwd()))\n",
    "sys.path.insert(0, ROOT_PATH)\n",
    "sys.path.insert(0, \"src/\")"
   ]
  },
  {
   "cell_type": "code",
   "execution_count": 6,
   "metadata": {},
   "outputs": [],
   "source": [
    "from src.antifold import load_IF1_checkpoint, load_IF1_model, predict_and_save"
   ]
  },
  {
   "cell_type": "code",
   "execution_count": 7,
   "metadata": {},
   "outputs": [],
   "source": [
    "# args.pdb_csv, args.out_dir, args.batch_size\n",
    "d = {\n",
    "    \"model_path\": \"model/model_aug23.pt\",\n",
    "    \"pdb_csv\": \"data/example_pdbs.csv\",\n",
    "    \"pdb_dir\": \"data/pdbs\",\n",
    "    \"out_dir\": \"output\",\n",
    "    \"batch_size\": 1,\n",
    "}\n",
    "args = SimpleNamespace(**d)"
   ]
  },
  {
   "cell_type": "code",
   "execution_count": 8,
   "metadata": {},
   "outputs": [
    {
     "name": "stdout",
     "output_type": "stream",
     "text": [
      "Loading checkpoint from model/model_aug23.pt...\n",
      "Loaded model to cpu.\n"
     ]
    }
   ],
   "source": [
    "\n",
    "model = load_IF1_model(args.model_path)"
   ]
  },
  {
   "cell_type": "code",
   "execution_count": 10,
   "metadata": {},
   "outputs": [
    {
     "name": "stderr",
     "output_type": "stream",
     "text": [
      "[2023-09-12 16:12:26,476] Populating 2 PDBs from data/example_pdbs.csv\n"
     ]
    },
    {
     "name": "stdout",
     "output_type": "stream",
     "text": [
      "\n",
      "Predicting PDBs from CSV file: data/example_pdbs.csv\n",
      "Saving prediction CSVs to output\n",
      "Predicting batch 1/3: PDBs 1-1 out of 3 total\n",
      "Predicting batch 2/3: PDBs 2-2 out of 3 total\n",
      "Predicting batch 3/3: PDBs 3-3 out of 3 total\n",
      "Saving 3 CSVs to output\n"
     ]
    }
   ],
   "source": [
    "# Antifold + SAB\n",
    "_ = predict_and_save(model, args.pdb_csv, args.pdb_dir, args.out_dir, batch_size=args.batch_size)"
   ]
  },
  {
   "cell_type": "code",
   "execution_count": null,
   "metadata": {},
   "outputs": [],
   "source": []
  }
 ],
 "metadata": {
  "kernelspec": {
   "display_name": "Python 3",
   "language": "python",
   "name": "python3"
  },
  "language_info": {
   "codemirror_mode": {
    "name": "ipython",
    "version": 3
   },
   "file_extension": ".py",
   "mimetype": "text/x-python",
   "name": "python",
   "nbconvert_exporter": "python",
   "pygments_lexer": "ipython3",
   "version": "3.9.18"
  },
  "orig_nbformat": 4
 },
 "nbformat": 4,
 "nbformat_minor": 2
}
